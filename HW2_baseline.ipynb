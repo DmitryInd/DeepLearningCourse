{
 "cells": [
  {
   "cell_type": "markdown",
   "id": "08d9e548-1a50-4e1f-a1bf-21fbf435fffc",
   "metadata": {
    "id": "08d9e548-1a50-4e1f-a1bf-21fbf435fffc"
   },
   "source": [
    "Прочитать как скачать датасет с каггла - [тут](https://github.com/Kaggle/kaggle-api)."
   ]
  },
  {
   "cell_type": "code",
   "execution_count": null,
   "id": "94db3497-2080-4c93-9379-215033b4398f",
   "metadata": {
    "id": "94db3497-2080-4c93-9379-215033b4398f",
    "tags": []
   },
   "outputs": [],
   "source": [
    "import os\n",
    "os.environ['KAGGLE_USERNAME'] = \"\"\n",
    "os.environ['KAGGLE_KEY'] = \"\""
   ]
  },
  {
   "cell_type": "code",
   "execution_count": null,
   "id": "940032f1-7b90-458f-b45b-e10d770df053",
   "metadata": {
    "id": "940032f1-7b90-458f-b45b-e10d770df053",
    "outputId": "2e9f657f-8272-4c70-cd65-55eba1c7e3a2"
   },
   "outputs": [
    {
     "name": "stdout",
     "output_type": "stream",
     "text": [
      "Downloading 10-monkey-species.zip to /home/mark/stuff\n",
      " 99%|████████████████████████████████████████▌| 542M/547M [00:04<00:00, 136MB/s]\n",
      "100%|█████████████████████████████████████████| 547M/547M [00:04<00:00, 131MB/s]\n"
     ]
    }
   ],
   "source": [
    "!kaggle datasets download -d slothkong/10-monkey-species"
   ]
  },
  {
   "cell_type": "code",
   "execution_count": null,
   "id": "e551791b-8310-48f8-9183-dce52a612417",
   "metadata": {
    "id": "e551791b-8310-48f8-9183-dce52a612417",
    "tags": []
   },
   "outputs": [],
   "source": [
    "import zipfile\n",
    "with zipfile.ZipFile('10-monkey-species.zip', 'r') as zip_ref:\n",
    "    zip_ref.extractall()"
   ]
  },
  {
   "cell_type": "code",
   "execution_count": 1,
   "id": "074fa0e9-c9ed-44f3-a47d-337ffd8b4be0",
   "metadata": {
    "id": "074fa0e9-c9ed-44f3-a47d-337ffd8b4be0",
    "tags": []
   },
   "outputs": [],
   "source": [
    "from matplotlib import pyplot as plt\n",
    "from torch.utils.data import Dataset, DataLoader\n",
    "import torch\n",
    "import numpy as np\n",
    "from torchvision import transforms\n",
    "from torchvision.datasets import ImageFolder\n",
    "import torchvision\n",
    "import torchvision.models as models\n",
    "import pytorch_lightning as pl\n",
    "import torch.nn as nn\n",
    "from torchmetrics import Accuracy\n",
    "import torch.optim as optim\n",
    "from pytorch_lightning.callbacks.early_stopping import EarlyStopping\n",
    "from pytorch_lightning.callbacks import ModelCheckpoint\n",
    "from collections import Counter\n",
    "import torch.nn.functional as F"
   ]
  },
  {
   "cell_type": "markdown",
   "id": "d20563bd-b58f-4f9a-9692-ab7238e4bf29",
   "metadata": {
    "id": "d20563bd-b58f-4f9a-9692-ab7238e4bf29",
    "tags": []
   },
   "source": [
    "# Dataset"
   ]
  },
  {
   "cell_type": "code",
   "execution_count": 2,
   "id": "aad5c3b7-7fa3-4ccb-bebf-338ae4d8cc7e",
   "metadata": {
    "id": "aad5c3b7-7fa3-4ccb-bebf-338ae4d8cc7e",
    "tags": []
   },
   "outputs": [],
   "source": [
    "transforms = transforms.Compose([transforms.Resize((224,224)),\n",
    "              transforms.ToTensor(),\n",
    "              transforms.Normalize([0.485, 0.456, 0.406],[0.229, 0.224, 0.225])\n",
    "        ])"
   ]
  },
  {
   "cell_type": "code",
   "execution_count": 3,
   "id": "c64810fa-ac79-4fb8-9e2b-ca8648f57f1f",
   "metadata": {
    "id": "c64810fa-ac79-4fb8-9e2b-ca8648f57f1f",
    "tags": []
   },
   "outputs": [],
   "source": [
    "train_ds = ImageFolder('./data/training/training/',transform=transforms)\n",
    "test_ds = ImageFolder('./data/validation/validation/',transform=transforms)"
   ]
  },
  {
   "cell_type": "code",
   "execution_count": 4,
   "id": "299e9ce3-22df-4942-9331-5a54d54f503f",
   "metadata": {
    "id": "299e9ce3-22df-4942-9331-5a54d54f503f",
    "outputId": "24ebc6cb-d24a-405f-bbe2-89ce610f812c",
    "tags": []
   },
   "outputs": [
    {
     "name": "stdout",
     "output_type": "stream",
     "text": [
      "Counter({3: 122, 7: 114, 5: 113, 1: 111, 2: 110, 6: 106, 8: 106, 0: 105, 4: 105, 9: 105})\n",
      "Counter({3: 30, 1: 28, 5: 28, 7: 28, 2: 27, 8: 27, 0: 26, 4: 26, 6: 26, 9: 26})\n"
     ]
    }
   ],
   "source": [
    "train_cnt = Counter(train_ds.targets)\n",
    "test_cnt = Counter(test_ds.targets)\n",
    "print(train_cnt)\n",
    "print(test_cnt)"
   ]
  },
  {
   "cell_type": "markdown",
   "id": "43848d34-23aa-44e3-a89d-76f15f875841",
   "metadata": {
    "id": "43848d34-23aa-44e3-a89d-76f15f875841",
    "tags": []
   },
   "source": [
    "# Dataloader"
   ]
  },
  {
   "cell_type": "code",
   "execution_count": 5,
   "id": "09e9fdac-3f34-48f7-867c-e5b832f31216",
   "metadata": {
    "id": "09e9fdac-3f34-48f7-867c-e5b832f31216",
    "tags": []
   },
   "outputs": [],
   "source": [
    "train_dl = DataLoader(train_ds, batch_size=64, shuffle=True,num_workers=4)\n",
    "test_dl = DataLoader(test_ds, batch_size=64, shuffle=False,num_workers=4)"
   ]
  },
  {
   "cell_type": "markdown",
   "id": "7d5f7ef9-7b7b-4d1a-8394-72ecb469e20a",
   "metadata": {
    "id": "7d5f7ef9-7b7b-4d1a-8394-72ecb469e20a",
    "tags": []
   },
   "source": [
    "# Model"
   ]
  },
  {
   "cell_type": "code",
   "execution_count": 6,
   "id": "cf9f0924-24b4-483f-b771-66acab7890a6",
   "metadata": {
    "id": "cf9f0924-24b4-483f-b771-66acab7890a6",
    "tags": []
   },
   "outputs": [],
   "source": [
    "class HWModel(pl.LightningModule):\n",
    "    def __init__(self, num_classes, lr=2e-4):\n",
    "        super().__init__()\n",
    "        self.save_hyperparameters()\n",
    "        self.lr = lr\n",
    "        self.num_classes = num_classes\n",
    "        self.model = models.resnet50(pretrained=True)\n",
    "        in_feat = list(self.model.children())[-1].in_features\n",
    "        self.model.fc = nn.Linear(in_feat, self.num_classes)\n",
    "        \n",
    "        self.loss_fn = nn.CrossEntropyLoss()\n",
    "        self.accuracy = Accuracy(task=\"multiclass\", num_classes=self.num_classes)\n",
    "        \n",
    "    def forward(self, x):\n",
    "        x = self.model(x)\n",
    "        return x\n",
    "    def configure_optimizers(self):\n",
    "        optimizer = torch.optim.SGD(self.parameters(), lr=self.lr)\n",
    "        return optimizer\n",
    "    \n",
    "    def training_step(self, batch, batch_idx):\n",
    "        \n",
    "        x, y = batch\n",
    "        \n",
    "        preds = self(x)\n",
    "        loss = self.loss_fn(preds, y)\n",
    "        acc = self.accuracy(torch.argmax(preds, dim=1), y)\n",
    "        \n",
    "        self.log('train_loss', loss.item(), on_epoch=True,logger=True)\n",
    "        self.log('train_acc', acc, on_epoch=True,logger=True)\n",
    "        \n",
    "        return loss\n",
    "    \n",
    "    def validation_step(self, batch, batch_idx):\n",
    "        \n",
    "        x,y = batch\n",
    "        \n",
    "        preds = self(x)\n",
    "        \n",
    "        loss = self.loss_fn(preds, y)\n",
    "        acc = self.accuracy(torch.argmax(preds, dim=1), y)\n",
    "        \n",
    "        self.log('val_loss', loss, on_epoch=True,prog_bar=True,logger=True)\n",
    "        self.log('val_acc', acc, on_epoch=True,prog_bar=True,logger=True)\n",
    "        \n",
    "    def test_step(self, batch, batch_idx):\n",
    "        \n",
    "        x,y = batch\n",
    "        preds = self(x)\n",
    "        acc = self.accuracy(torch.argmax(preds, dim=1), y)\n",
    "        \n",
    "        self.log('test_acc', acc, on_epoch=True,prog_bar=True)"
   ]
  },
  {
   "cell_type": "markdown",
   "id": "f46467c3-2701-4fae-998d-2a3304043065",
   "metadata": {
    "id": "f46467c3-2701-4fae-998d-2a3304043065",
    "tags": []
   },
   "source": [
    "# Train"
   ]
  },
  {
   "cell_type": "code",
   "execution_count": 7,
   "id": "bedd6e0a-d444-43f3-9147-4e5ee05514a5",
   "metadata": {
    "id": "bedd6e0a-d444-43f3-9147-4e5ee05514a5"
   },
   "outputs": [],
   "source": [
    "from torch import Tensor\n",
    "from typing import Type"
   ]
  },
  {
   "cell_type": "code",
   "execution_count": 8,
   "id": "c9a00582-e9ab-4c7a-ae77-e3b3c9f54ddd",
   "metadata": {
    "id": "c9a00582-e9ab-4c7a-ae77-e3b3c9f54ddd",
    "tags": []
   },
   "outputs": [
    {
     "name": "stderr",
     "output_type": "stream",
     "text": [
      "/home/dmitryindenbom/anaconda3/lib/python3.9/site-packages/torchvision/models/_utils.py:208: UserWarning: The parameter 'pretrained' is deprecated since 0.13 and may be removed in the future, please use 'weights' instead.\n",
      "  warnings.warn(\n",
      "/home/dmitryindenbom/anaconda3/lib/python3.9/site-packages/torchvision/models/_utils.py:223: UserWarning: Arguments other than a weight enum or `None` for 'weights' are deprecated since 0.13 and may be removed in the future. The current behavior is equivalent to passing `weights=ResNet50_Weights.IMAGENET1K_V1`. You can also use `weights=ResNet50_Weights.DEFAULT` to get the most up-to-date weights.\n",
      "  warnings.warn(msg)\n",
      "Downloading: \"https://download.pytorch.org/models/resnet50-0676ba61.pth\" to /home/dmitryindenbom/.cache/torch/hub/checkpoints/resnet50-0676ba61.pth\n"
     ]
    },
    {
     "data": {
      "application/vnd.jupyter.widget-view+json": {
       "model_id": "9c60b61d138b423f97b4262c71410a01",
       "version_major": 2,
       "version_minor": 0
      },
      "text/plain": [
       "  0%|          | 0.00/97.8M [00:00<?, ?B/s]"
      ]
     },
     "metadata": {},
     "output_type": "display_data"
    },
    {
     "name": "stderr",
     "output_type": "stream",
     "text": [
      "GPU available: True (cuda), used: True\n",
      "TPU available: False, using: 0 TPU cores\n",
      "IPU available: False, using: 0 IPUs\n",
      "HPU available: False, using: 0 HPUs\n",
      "/home/dmitryindenbom/anaconda3/lib/python3.9/site-packages/pytorch_lightning/trainer/connectors/logger_connector/logger_connector.py:67: UserWarning: Starting from v1.9.0, `tensorboardX` has been removed as a dependency of the `pytorch_lightning` package, due to potential conflicts with other packages in the ML ecosystem. For this reason, `logger=True` will use `CSVLogger` as the default logger, unless the `tensorboard` or `tensorboardX` packages are found. Please `pip install lightning[extra]` or one of them to enable TensorBoard support by default\n",
      "  warning_cache.warn(\n",
      "You are using a CUDA device ('NVIDIA GeForce RTX 3080') that has Tensor Cores. To properly utilize them, you should set `torch.set_float32_matmul_precision('medium' | 'high')` which will trade-off precision for performance. For more details, read https://pytorch.org/docs/stable/generated/torch.set_float32_matmul_precision.html#torch.set_float32_matmul_precision\n",
      "LOCAL_RANK: 0 - CUDA_VISIBLE_DEVICES: [0]\n",
      "\n",
      "  | Name     | Type               | Params\n",
      "------------------------------------------------\n",
      "0 | model    | ResNet             | 23.5 M\n",
      "1 | loss_fn  | CrossEntropyLoss   | 0     \n",
      "2 | accuracy | MulticlassAccuracy | 0     \n",
      "------------------------------------------------\n",
      "23.5 M    Trainable params\n",
      "0         Non-trainable params\n",
      "23.5 M    Total params\n",
      "94.114    Total estimated model params size (MB)\n"
     ]
    },
    {
     "data": {
      "application/vnd.jupyter.widget-view+json": {
       "model_id": "",
       "version_major": 2,
       "version_minor": 0
      },
      "text/plain": [
       "Sanity Checking: 0it [00:00, ?it/s]"
      ]
     },
     "metadata": {},
     "output_type": "display_data"
    },
    {
     "name": "stderr",
     "output_type": "stream",
     "text": [
      "/home/dmitryindenbom/anaconda3/lib/python3.9/site-packages/pytorch_lightning/loops/fit_loop.py:280: PossibleUserWarning: The number of training batches (18) is smaller than the logging interval Trainer(log_every_n_steps=50). Set a lower value for log_every_n_steps if you want to see logs for the training epoch.\n",
      "  rank_zero_warn(\n"
     ]
    },
    {
     "data": {
      "application/vnd.jupyter.widget-view+json": {
       "model_id": "bf4be8ce9bf44935adfc511d8004f349",
       "version_major": 2,
       "version_minor": 0
      },
      "text/plain": [
       "Training: 0it [00:00, ?it/s]"
      ]
     },
     "metadata": {},
     "output_type": "display_data"
    },
    {
     "data": {
      "application/vnd.jupyter.widget-view+json": {
       "model_id": "",
       "version_major": 2,
       "version_minor": 0
      },
      "text/plain": [
       "Validation: 0it [00:00, ?it/s]"
      ]
     },
     "metadata": {},
     "output_type": "display_data"
    },
    {
     "data": {
      "application/vnd.jupyter.widget-view+json": {
       "model_id": "",
       "version_major": 2,
       "version_minor": 0
      },
      "text/plain": [
       "Validation: 0it [00:00, ?it/s]"
      ]
     },
     "metadata": {},
     "output_type": "display_data"
    },
    {
     "data": {
      "application/vnd.jupyter.widget-view+json": {
       "model_id": "",
       "version_major": 2,
       "version_minor": 0
      },
      "text/plain": [
       "Validation: 0it [00:00, ?it/s]"
      ]
     },
     "metadata": {},
     "output_type": "display_data"
    },
    {
     "data": {
      "application/vnd.jupyter.widget-view+json": {
       "model_id": "",
       "version_major": 2,
       "version_minor": 0
      },
      "text/plain": [
       "Validation: 0it [00:00, ?it/s]"
      ]
     },
     "metadata": {},
     "output_type": "display_data"
    },
    {
     "data": {
      "application/vnd.jupyter.widget-view+json": {
       "model_id": "",
       "version_major": 2,
       "version_minor": 0
      },
      "text/plain": [
       "Validation: 0it [00:00, ?it/s]"
      ]
     },
     "metadata": {},
     "output_type": "display_data"
    },
    {
     "data": {
      "application/vnd.jupyter.widget-view+json": {
       "model_id": "",
       "version_major": 2,
       "version_minor": 0
      },
      "text/plain": [
       "Validation: 0it [00:00, ?it/s]"
      ]
     },
     "metadata": {},
     "output_type": "display_data"
    },
    {
     "data": {
      "application/vnd.jupyter.widget-view+json": {
       "model_id": "",
       "version_major": 2,
       "version_minor": 0
      },
      "text/plain": [
       "Validation: 0it [00:00, ?it/s]"
      ]
     },
     "metadata": {},
     "output_type": "display_data"
    },
    {
     "data": {
      "application/vnd.jupyter.widget-view+json": {
       "model_id": "",
       "version_major": 2,
       "version_minor": 0
      },
      "text/plain": [
       "Validation: 0it [00:00, ?it/s]"
      ]
     },
     "metadata": {},
     "output_type": "display_data"
    },
    {
     "data": {
      "application/vnd.jupyter.widget-view+json": {
       "model_id": "",
       "version_major": 2,
       "version_minor": 0
      },
      "text/plain": [
       "Validation: 0it [00:00, ?it/s]"
      ]
     },
     "metadata": {},
     "output_type": "display_data"
    },
    {
     "data": {
      "application/vnd.jupyter.widget-view+json": {
       "model_id": "",
       "version_major": 2,
       "version_minor": 0
      },
      "text/plain": [
       "Validation: 0it [00:00, ?it/s]"
      ]
     },
     "metadata": {},
     "output_type": "display_data"
    },
    {
     "name": "stderr",
     "output_type": "stream",
     "text": [
      "`Trainer.fit` stopped: `max_epochs=10` reached.\n"
     ]
    }
   ],
   "source": [
    "model = HWModel(num_classes = 10,lr = 1e-3)\n",
    "trainer_args = {\n",
    "        \"accelerator\": \"gpu\",\n",
    "        \"max_epochs\": 10,\n",
    "    }\n",
    "trainer = pl.Trainer(**trainer_args,enable_progress_bar=True)\n",
    "trainer.fit(model,train_dl,test_dl)"
   ]
  },
  {
   "cell_type": "code",
   "execution_count": 1,
   "id": "48f002cf-3923-407f-839b-fd57e7572d81",
   "metadata": {},
   "outputs": [
    {
     "ename": "NameError",
     "evalue": "name 'train_dl' is not defined",
     "output_type": "error",
     "traceback": [
      "\u001b[0;31m---------------------------------------------------------------------------\u001b[0m",
      "\u001b[0;31mNameError\u001b[0m                                 Traceback (most recent call last)",
      "\u001b[0;32m/tmp/ipykernel_5231/2561848156.py\u001b[0m in \u001b[0;36m<module>\u001b[0;34m\u001b[0m\n\u001b[0;32m----> 1\u001b[0;31m \u001b[0mlen\u001b[0m\u001b[0;34m(\u001b[0m\u001b[0mtrain_dl\u001b[0m\u001b[0;34m)\u001b[0m\u001b[0;34m\u001b[0m\u001b[0;34m\u001b[0m\u001b[0m\n\u001b[0m",
      "\u001b[0;31mNameError\u001b[0m: name 'train_dl' is not defined"
     ]
    }
   ],
   "source": [
    "len(train_dl)"
   ]
  }
 ],
 "metadata": {
  "colab": {
   "provenance": []
  },
  "kernelspec": {
   "display_name": "Python 3 (ipykernel)",
   "language": "python",
   "name": "python3"
  },
  "language_info": {
   "codemirror_mode": {
    "name": "ipython",
    "version": 3
   },
   "file_extension": ".py",
   "mimetype": "text/x-python",
   "name": "python",
   "nbconvert_exporter": "python",
   "pygments_lexer": "ipython3",
   "version": "3.9.13"
  }
 },
 "nbformat": 4,
 "nbformat_minor": 5
}
